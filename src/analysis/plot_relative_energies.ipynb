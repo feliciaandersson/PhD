{
 "cells": [
  {
   "cell_type": "markdown",
   "metadata": {},
   "source": [
    "# A notebook to plot relative energies\n",
    "\n",
    "This notebook is used for comparative analysis of different methods for \n",
    "calculating relative energies of molecular structures from ASE databases.\n",
    "\n",
    "## Overview\n",
    "- **Configuration**: Set up parameters such as file names, database information, and plot settings.\n",
    "- **Process databases**: Process the databases and calculate relative energies.\n",
    "- **Visualization**: Plot the relative energies for each method.\n",
    "- **Main Execution**: Execute the script to plot the relative energies.\n",
    "\n",
    "\n",
    "---"
   ]
  },
  {
   "cell_type": "markdown",
   "metadata": {},
   "source": [
    "## Import modules"
   ]
  },
  {
   "cell_type": "code",
   "execution_count": null,
   "metadata": {},
   "outputs": [],
   "source": [
    "import matplotlib.pyplot as plt\n",
    "from ase.db import connect\n",
    "import os"
   ]
  },
  {
   "cell_type": "markdown",
   "metadata": {},
   "source": [
    "## Configuration\n",
    "#### Set Parameters\n",
    "Before running the analysis, set up the parameters below:\n",
    "\n",
    "- `label`: a descriptive label of the plot.\n",
    "- `file_name`: Name of the output plot png file.\n",
    "- `step_size`: The step size for plotting in the x direction.\n",
    "- `databases_info`: Information about databases, including labels, colors, and linewidths.\n"
   ]
  },
  {
   "cell_type": "code",
   "execution_count": null,
   "metadata": {},
   "outputs": [],
   "source": [
    "label = \"name\"\n",
    "file_name = f\"{label}_plot\"\n",
    "step_size = 0.5\n",
    "\n",
    "databases_info = [\n",
    "    {\n",
    "        \"database\": \".db\",\n",
    "        \"label\": \"name\",\n",
    "        \"color\": \"dodgerblue\",\n",
    "        \"linewidth\": None,\n",
    "    },\n",
    "    {\n",
    "        \"database\": \".db\",\n",
    "        \"label\": \"name\",\n",
    "        \"color\": \"darkred\",\n",
    "        \"linewidth\": None,\n",
    "    },\n",
    "    {\n",
    "        \"database\": \".db\",\n",
    "        \"label\": \"name\",\n",
    "        \"color\": \"purple\",\n",
    "        \"linewidth\": 0.5,\n",
    "    },\n",
    "]"
   ]
  },
  {
   "cell_type": "markdown",
   "metadata": {},
   "source": [
    "## Process Databases\n",
    "#### Process the databases and calculate relative energies\n",
    "\n",
    "No need to change anything in this block."
   ]
  },
  {
   "cell_type": "code",
   "execution_count": null,
   "metadata": {},
   "outputs": [],
   "source": [
    "def calc_relative_energies(database, label, step_size):\n",
    "    \"\"\"Process a database and return relative energies.\"\"\"\n",
    "    db = connect(database)\n",
    "    energies = [row.energy for row in db.select()]\n",
    "\n",
    "    min_energy_index = energies.index(min(energies))\n",
    "    total_steps = len(energies) - 1\n",
    "\n",
    "    x_values = [(i - min_energy_index) * step_size for i in range(total_steps + 1)]\n",
    "\n",
    "    last_energy = energies[-1]\n",
    "    relative_energies = [energy - last_energy for energy in energies]\n",
    "\n",
    "    return relative_energies, x_values, label"
   ]
  },
  {
   "cell_type": "markdown",
   "metadata": {},
   "source": [
    "## Configure vizualisation\n",
    "\n",
    "#### Plot the relative energies for each method\n",
    "\n",
    "No need to change anything in this block."
   ]
  },
  {
   "cell_type": "code",
   "execution_count": null,
   "metadata": {},
   "outputs": [],
   "source": [
    "def get_plot_config(file_name):\n",
    "    \"\"\"Return the configuration dictionary for plotting.\"\"\"\n",
    "\n",
    "    return {\n",
    "        \"xlabel\": \"Displacement from the optimum position (Å), where the optimum position is set to 0\",\n",
    "        \"ylabel\": \"Relative energy (eV)\",\n",
    "        \"title\": \"Relative energy vs. iteration step\",\n",
    "        \"grid\": True,\n",
    "        \"ylim\": (-1.0, 1.0),\n",
    "        \"plot_label\": f\"{file_name}.png\",\n",
    "        \"colors\": {},\n",
    "        \"linewidths\": {},\n",
    "    }\n",
    "\n",
    "\n",
    "def save_plot(plot_label, dpi=300):\n",
    "    \"\"\"Save the plot with the given label.\"\"\"\n",
    "\n",
    "    os.makedirs(\"./plots/\", exist_ok=True)\n",
    "    plt.savefig(f\"./plots/{plot_label}\", dpi=dpi)\n",
    "    plt.show()\n",
    "    plt.close()\n",
    "\n",
    "\n",
    "def plot_relative_energies(all_relative_energies, all_x_values, labels, config):\n",
    "    \"\"\"Plot relative energies for each method.\"\"\"\n",
    "\n",
    "    plt.figure()\n",
    "    for energies, x_values, label in zip(all_relative_energies, all_x_values, labels):\n",
    "        plt.plot(\n",
    "            x_values,\n",
    "            energies,\n",
    "            marker=\"o\",\n",
    "            linestyle=\"-\",\n",
    "            label=label,\n",
    "            color=config[\"colors\"][label],\n",
    "            linewidth=config[\"linewidths\"].get(label),\n",
    "        )\n",
    "    plt.xlabel(config[\"xlabel\"])\n",
    "    plt.ylabel(config[\"ylabel\"])\n",
    "    plt.title(config[\"title\"])\n",
    "    plt.grid(config[\"grid\"])\n",
    "    plt.ylim(config[\"ylim\"])\n",
    "    plt.legend()\n",
    "    save_plot(plot_label=config[\"plot_label\"])"
   ]
  },
  {
   "cell_type": "markdown",
   "metadata": {},
   "source": [
    "## Main execution\n",
    "\n",
    "No need to change anything in this block."
   ]
  },
  {
   "cell_type": "markdown",
   "metadata": {},
   "source": [
    "#### Set plot configuration"
   ]
  },
  {
   "cell_type": "code",
   "execution_count": null,
   "metadata": {},
   "outputs": [],
   "source": [
    "config = get_plot_config(file_name)\n",
    "for item in databases_info:\n",
    "    label = item[\"label\"]\n",
    "    config[\"colors\"][label] = item[\"color\"]\n",
    "    config[\"linewidths\"][label] = item.get(\"linewidth\", None)"
   ]
  },
  {
   "cell_type": "markdown",
   "metadata": {},
   "source": [
    "#### Process databases"
   ]
  },
  {
   "cell_type": "code",
   "execution_count": null,
   "metadata": {},
   "outputs": [],
   "source": [
    "all_relative_energies = []\n",
    "all_x_values = []\n",
    "labels = []\n",
    "\n",
    "for item in databases_info:\n",
    "    relative_energies, x_values, plot_label = calc_relative_energies(\n",
    "        item[\"database\"], item[\"label\"], step_size\n",
    "    )\n",
    "    all_relative_energies.append(relative_energies)\n",
    "    all_x_values.append(x_values)\n",
    "    labels.append(plot_label)"
   ]
  },
  {
   "cell_type": "markdown",
   "metadata": {},
   "source": [
    "#### Plot the relative Energies"
   ]
  },
  {
   "cell_type": "code",
   "execution_count": null,
   "metadata": {},
   "outputs": [],
   "source": [
    "plot_relative_energies(all_relative_energies, all_x_values, labels, config)"
   ]
  }
 ],
 "metadata": {
  "kernelspec": {
   "display_name": "base",
   "language": "python",
   "name": "python3"
  },
  "language_info": {
   "codemirror_mode": {
    "name": "ipython",
    "version": 3
   },
   "file_extension": ".py",
   "mimetype": "text/x-python",
   "name": "python",
   "nbconvert_exporter": "python",
   "pygments_lexer": "ipython3",
   "version": "3.11.4"
  }
 },
 "nbformat": 4,
 "nbformat_minor": 2
}
