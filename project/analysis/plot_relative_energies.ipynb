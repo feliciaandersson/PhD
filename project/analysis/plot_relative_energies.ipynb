{
 "cells": [
  {
   "cell_type": "markdown",
   "metadata": {},
   "source": [
    "# A notebook to plot relative energies\n",
    "\n",
    "This notebook is used for comparative analysis of different methods for \n",
    "calculating relative energies of molecular structures, from ASE databases, \n",
    "saved in ASE databases.\n",
    "\n",
    "## Overview\n",
    "- **Configuration**: Set up parameters such as file names, database information, and plot settings.\n",
    "- **Process databases**: Process the databases and calculate relative energies.\n",
    "- **Configure plot settings**: Configure the plot settings.\n",
    "- **Main Execution**: Execute the script to plot the relative energies.\n",
    "\n",
    "\n",
    "---"
   ]
  },
  {
   "cell_type": "markdown",
   "metadata": {},
   "source": [
    "## Import modules"
   ]
  },
  {
   "cell_type": "code",
   "execution_count": null,
   "metadata": {},
   "outputs": [],
   "source": [
    "import matplotlib.pyplot as plt\n",
    "from ase.db import connect"
   ]
  },
  {
   "cell_type": "markdown",
   "metadata": {},
   "source": [
    "## Configuration\n",
    "#### Set Parameters\n",
    "Before running the analysis, set up the parameters below:\n",
    "\n",
    "- `file_name`: Name of the output plot file.\n",
    "- `databases_info`: Information about databases, including labels, colors, and linewidths."
   ]
  },
  {
   "cell_type": "code",
   "execution_count": null,
   "metadata": {},
   "outputs": [],
   "source": [
    "file_name = \"a_descriptive_file_name\"\n",
    "\n",
    "databases_info = [\n",
    "    {\n",
    "        \"database\": \"database1.db\",\n",
    "        \"label\": \"name1\",\n",
    "        \"color\": 'dodgerblue',\n",
    "        \"linewidth\": None\n",
    "    },\n",
    "    {\n",
    "        \"database\": \"database2.db\",\n",
    "        \"label\": \"name2\",\n",
    "        \"color\": 'deepskyblue',\n",
    "        \"linewidth\": None\n",
    "    },\n",
    "    {\n",
    "        \"database\": \"database3.db\",\n",
    "        \"label\": \"name3\",\n",
    "        \"color\": 'darkred',\n",
    "        \"linewidth\": None\n",
    "    },\n",
    "    {\n",
    "        \"database\": \"database4.db\",\n",
    "        \"label\": \"name4\",\n",
    "        \"color\": 'red',\n",
    "        \"linewidth\": 0.5\n",
    "    },\n",
    "    {\n",
    "        \"database\": \"database5.db\",\n",
    "        \"label\": \"name5\",\n",
    "        \"color\": 'purple',\n",
    "        \"linewidth\": 0.5\n",
    "    }\n",
    "]"
   ]
  },
  {
   "cell_type": "markdown",
   "metadata": {},
   "source": [
    "## Process Databases\n",
    "#### Process the databases and calculate relative energies\n",
    "\n",
    "No need to change anything in this block."
   ]
  },
  {
   "cell_type": "code",
   "execution_count": null,
   "metadata": {},
   "outputs": [],
   "source": [
    "def calc_relative_energies(database, label):\n",
    "    \"\"\"Process a database and return relative energies.\"\"\"\n",
    "    db = connect(database)\n",
    "    energies = [row.energy for row in db.select()]\n",
    "    min_energy = min(energies)\n",
    "    return [energy - min_energy for energy in energies], label"
   ]
  },
  {
   "cell_type": "markdown",
   "metadata": {},
   "source": [
    "## Configure plot settings\n",
    "\n",
    "No need to change anything in this block."
   ]
  },
  {
   "cell_type": "code",
   "execution_count": null,
   "metadata": {},
   "outputs": [],
   "source": [
    "def get_plot_config(file_name):\n",
    "    \"\"\"Return the configuration dictionary for plotting.\"\"\"\n",
    "    return {\n",
    "        'xlabel': 'Structure index',\n",
    "        'ylabel': 'Relative energy (eV)',\n",
    "        'title': 'Relative energy vs. iteration step',\n",
    "        'grid': True,\n",
    "        'ylim': (0, 2),\n",
    "        'plot_label': f'{file_name}.png',\n",
    "        'colors': {},\n",
    "        'linewidths': {}\n",
    "    }\n",
    "    \n",
    "def save_plot(plot_label, dpi=300):\n",
    "    \"\"\"Save the plot with the given label.\"\"\"\n",
    "    plt.savefig(plot_label, dpi=dpi)\n",
    "    plt.show()\n",
    "\n",
    "\n",
    "def plot_relative_energies(all_relative_energies, labels, config):\n",
    "    \"\"\"Plot relative energies for each method.\"\"\"\n",
    "    plt.figure()\n",
    "    for energies, label in zip(all_relative_energies, labels):\n",
    "        plt.plot(energies, marker='o', linestyle='-', label=label, color=config['colors'][label], linewidth=config['linewidths'].get(label))\n",
    "    plt.xlabel(config['xlabel'])\n",
    "    plt.ylabel(config['ylabel'])\n",
    "    plt.title(config['title'])\n",
    "    plt.grid(config['grid'])\n",
    "    plt.ylim(config['ylim'])\n",
    "    plt.legend()\n",
    "    save_plot(plot_label=config['plot_label'])"
   ]
  },
  {
   "cell_type": "markdown",
   "metadata": {},
   "source": [
    "## Main execution\n",
    "\n",
    "No need to change anything in this block."
   ]
  },
  {
   "cell_type": "markdown",
   "metadata": {},
   "source": [
    "#### Set plot configuration"
   ]
  },
  {
   "cell_type": "code",
   "execution_count": null,
   "metadata": {},
   "outputs": [],
   "source": [
    "config = get_plot_config(file_name)\n",
    "for item in databases_info:\n",
    "    label = item['label']\n",
    "    config['colors'][label] = item['color']\n",
    "    config['linewidths'][label] = item.get('linewidth', None)"
   ]
  },
  {
   "cell_type": "markdown",
   "metadata": {},
   "source": [
    "#### Process databases"
   ]
  },
  {
   "cell_type": "code",
   "execution_count": null,
   "metadata": {},
   "outputs": [],
   "source": [
    "all_relative_energies = []\n",
    "labels = []\n",
    "for item in databases_info:\n",
    "    relative_energies, plot_label = calc_relative_energies(item[\"database\"], item[\"label\"])\n",
    "    all_relative_energies.append(relative_energies)\n",
    "    labels.append(plot_label)"
   ]
  },
  {
   "cell_type": "markdown",
   "metadata": {},
   "source": [
    "#### Plot the relative Energies"
   ]
  },
  {
   "cell_type": "code",
   "execution_count": null,
   "metadata": {},
   "outputs": [],
   "source": [
    "plot_relative_energies(all_relative_energies, labels, config)"
   ]
  }
 ],
 "metadata": {
  "kernelspec": {
   "display_name": "base",
   "language": "python",
   "name": "python3"
  },
  "language_info": {
   "codemirror_mode": {
    "name": "ipython",
    "version": 3
   },
   "file_extension": ".py",
   "mimetype": "text/x-python",
   "name": "python",
   "nbconvert_exporter": "python",
   "pygments_lexer": "ipython3",
   "version": "3.11.4"
  }
 },
 "nbformat": 4,
 "nbformat_minor": 2
}
